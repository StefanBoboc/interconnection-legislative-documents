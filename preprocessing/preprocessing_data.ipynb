{
 "cells": [
  {
   "cell_type": "code",
   "execution_count": 1,
   "id": "43384fd1-fc00-49f0-a3bc-1c151203c242",
   "metadata": {},
   "outputs": [],
   "source": [
    "import pandas as pd\n",
    "import json\n",
    "\n",
    "# Define the file path and necessary columns\n",
    "file_path = r'C:\\Users\\xxxxx\\Desktop\\interconnection_legislative_documents\\01_phrase_selection\\phrasing001\\gpt_dataset_6.json' \n",
    "necessary_columns = ['men_id', 'men_text', 'phrase', 'men_href', 'men_href_title', 'doc_id']\n",
    "\n",
    "# Initialize an empty list to store the filtered data\n",
    "filtered_data = []\n",
    "\n",
    "# Read the JSON file line by line\n",
    "with open(file_path, 'r', encoding='utf-8') as file:\n",
    "    for line in file:\n",
    "        # Parse the JSON object\n",
    "        data = json.loads(line)\n",
    "        # Extract the necessary columns\n",
    "        filtered_data.append({col: data[col] for col in necessary_columns})\n",
    "\n",
    "# Create a DataFrame from the filtered data\n",
    "df = pd.DataFrame(filtered_data)"
   ]
  },
  {
   "cell_type": "code",
   "execution_count": 2,
   "id": "1f1e69d0-e015-4887-8af7-118dbc0fac82",
   "metadata": {},
   "outputs": [
    {
     "data": {
      "text/html": [
       "<div>\n",
       "<style scoped>\n",
       "    .dataframe tbody tr th:only-of-type {\n",
       "        vertical-align: middle;\n",
       "    }\n",
       "\n",
       "    .dataframe tbody tr th {\n",
       "        vertical-align: top;\n",
       "    }\n",
       "\n",
       "    .dataframe thead th {\n",
       "        text-align: right;\n",
       "    }\n",
       "</style>\n",
       "<table border=\"1\" class=\"dataframe\">\n",
       "  <thead>\n",
       "    <tr style=\"text-align: right;\">\n",
       "      <th></th>\n",
       "      <th>men_id</th>\n",
       "      <th>men_text</th>\n",
       "      <th>phrase</th>\n",
       "      <th>men_href</th>\n",
       "      <th>men_href_title</th>\n",
       "      <th>doc_id</th>\n",
       "    </tr>\n",
       "  </thead>\n",
       "  <tbody>\n",
       "    <tr>\n",
       "      <th>0</th>\n",
       "      <td>420349</td>\n",
       "      <td>art. 135</td>\n",
       "      <td>Minuta deciziei nr. 8 din 17 mai 2021 Admite r...</td>\n",
       "      <td>https://legislatie.just.ro/Public/DetaliiDocum...</td>\n",
       "      <td>CODUL DE PROCEDURĂ CIVILĂ din 1 iulie 2010 (**...</td>\n",
       "      <td>19797</td>\n",
       "    </tr>\n",
       "    <tr>\n",
       "      <th>1</th>\n",
       "      <td>420350</td>\n",
       "      <td>art. 136 din Codul de procedură civilă</td>\n",
       "      <td>Minuta deciziei nr. 8 din 17 mai 2021 Admite r...</td>\n",
       "      <td>https://legislatie.just.ro/Public/DetaliiDocum...</td>\n",
       "      <td>CODUL DE PROCEDURĂ CIVILĂ din 1 iulie 2010 (**...</td>\n",
       "      <td>19797</td>\n",
       "    </tr>\n",
       "    <tr>\n",
       "      <th>2</th>\n",
       "      <td>420351</td>\n",
       "      <td>art. 54 din Legea nr. 304/2004</td>\n",
       "      <td>Minuta deciziei nr. 8 din 17 mai 2021 Admite r...</td>\n",
       "      <td>https://legislatie.just.ro/Public/DetaliiDocum...</td>\n",
       "      <td>LEGE nr. 304 din 28 iunie 2004 (**republicată**)</td>\n",
       "      <td>19797</td>\n",
       "    </tr>\n",
       "    <tr>\n",
       "      <th>3</th>\n",
       "      <td>420352</td>\n",
       "      <td>art. 31 alin. (2) din Legea nr. 304/2004</td>\n",
       "      <td>Completul de judecată competent să soluționeze...</td>\n",
       "      <td>https://legislatie.just.ro/Public/DetaliiDocum...</td>\n",
       "      <td>LEGE nr. 304 din 28 iunie 2004 (**republicată**)</td>\n",
       "      <td>19797</td>\n",
       "    </tr>\n",
       "    <tr>\n",
       "      <th>4</th>\n",
       "      <td>420353</td>\n",
       "      <td>art. 136 alin. (3) din Codul de procedură civilă</td>\n",
       "      <td>Completul de judecată competent să soluționeze...</td>\n",
       "      <td>https://legislatie.just.ro/Public/DetaliiDocum...</td>\n",
       "      <td>CODUL DE PROCEDURĂ CIVILĂ din 1 iulie 2010 (**...</td>\n",
       "      <td>19797</td>\n",
       "    </tr>\n",
       "  </tbody>\n",
       "</table>\n",
       "</div>"
      ],
      "text/plain": [
       "   men_id                                          men_text  \\\n",
       "0  420349                                          art. 135   \n",
       "1  420350            art. 136 din Codul de procedură civilă   \n",
       "2  420351                    art. 54 din Legea nr. 304/2004   \n",
       "3  420352          art. 31 alin. (2) din Legea nr. 304/2004   \n",
       "4  420353  art. 136 alin. (3) din Codul de procedură civilă   \n",
       "\n",
       "                                              phrase  \\\n",
       "0  Minuta deciziei nr. 8 din 17 mai 2021 Admite r...   \n",
       "1  Minuta deciziei nr. 8 din 17 mai 2021 Admite r...   \n",
       "2  Minuta deciziei nr. 8 din 17 mai 2021 Admite r...   \n",
       "3  Completul de judecată competent să soluționeze...   \n",
       "4  Completul de judecată competent să soluționeze...   \n",
       "\n",
       "                                            men_href  \\\n",
       "0  https://legislatie.just.ro/Public/DetaliiDocum...   \n",
       "1  https://legislatie.just.ro/Public/DetaliiDocum...   \n",
       "2  https://legislatie.just.ro/Public/DetaliiDocum...   \n",
       "3  https://legislatie.just.ro/Public/DetaliiDocum...   \n",
       "4  https://legislatie.just.ro/Public/DetaliiDocum...   \n",
       "\n",
       "                                      men_href_title  doc_id  \n",
       "0  CODUL DE PROCEDURĂ CIVILĂ din 1 iulie 2010 (**...   19797  \n",
       "1  CODUL DE PROCEDURĂ CIVILĂ din 1 iulie 2010 (**...   19797  \n",
       "2   LEGE nr. 304 din 28 iunie 2004 (**republicată**)   19797  \n",
       "3   LEGE nr. 304 din 28 iunie 2004 (**republicată**)   19797  \n",
       "4  CODUL DE PROCEDURĂ CIVILĂ din 1 iulie 2010 (**...   19797  "
      ]
     },
     "execution_count": 2,
     "metadata": {},
     "output_type": "execute_result"
    }
   ],
   "source": [
    "df.head()"
   ]
  },
  {
   "cell_type": "code",
   "execution_count": 3,
   "id": "928beda6-a371-441b-9602-418b173cbc09",
   "metadata": {},
   "outputs": [
    {
     "data": {
      "text/plain": [
       "(67072, 6)"
      ]
     },
     "execution_count": 3,
     "metadata": {},
     "output_type": "execute_result"
    }
   ],
   "source": [
    "df.shape"
   ]
  },
  {
   "cell_type": "code",
   "execution_count": 4,
   "id": "04747d1d-8e13-4951-a4ab-c8c24174b85b",
   "metadata": {},
   "outputs": [],
   "source": [
    "import pickle\n",
    "import re\n",
    "import spacy\n",
    "nlp = spacy.load(\"ro_core_news_lg\")"
   ]
  },
  {
   "cell_type": "code",
   "execution_count": 5,
   "id": "4c894a6e-59e7-4f64-a58c-60ed6b47fdd4",
   "metadata": {},
   "outputs": [],
   "source": [
    "def purify_and_vectorize(text):\n",
    "    # Convert to lowercase\n",
    "    text = text.lower()\n",
    "    # Remove URLs\n",
    "    text = re.sub(r'http\\S+|www\\S+|https\\S+', '', text, flags=re.MULTILINE)\n",
    "    # Remove emails\n",
    "    text = re.sub(r'\\S+@\\S+', '', text)\n",
    "    # Remove phone numbers\n",
    "    # text = re.sub(r'\\b\\d{10}\\b|\\b\\d{3}[-.\\s]\\d{3}[-.\\s]\\d{4}\\b', '', text)\n",
    "    # Process text with spaCy\n",
    "    doc = nlp(text)\n",
    "    # Filter out stop words and punctuations, lemmatize, and get vectors\n",
    "    vectors = [token.lemma_ for token in doc if not token.is_stop and not token.is_punct]\n",
    "    # Convert lemmatized words to their vectors\n",
    "    # vectors = [nlp(word).vector for word in vectors if word in nlp.vocab]\n",
    "    return vectors"
   ]
  },
  {
   "cell_type": "code",
   "execution_count": 6,
   "id": "2f365e51-53d9-40bc-804a-0f833b762d86",
   "metadata": {},
   "outputs": [],
   "source": [
    "# Save the DataFrame into a pickle file\n",
    "with open('preprocessed_dataframe_6.pkl', 'wb') as f:\n",
    "    pickle.dump(pd.DataFrame({\n",
    "        'men_id': df['men_id'],\n",
    "        'men_text': df['men_text'].apply(purify_and_vectorize),\n",
    "        'phrase': df['phrase'].apply(purify_and_vectorize),\n",
    "        'men_href_title': df['men_href_title'].apply(purify_and_vectorize),\n",
    "        'men_href': df['men_href'],\n",
    "        'doc_id': df['doc_id']\n",
    "    }), f)"
   ]
  }
 ],
 "metadata": {
  "kernelspec": {
   "display_name": "Python 3 (ipykernel)",
   "language": "python",
   "name": "python3"
  },
  "language_info": {
   "codemirror_mode": {
    "name": "ipython",
    "version": 3
   },
   "file_extension": ".py",
   "mimetype": "text/x-python",
   "name": "python",
   "nbconvert_exporter": "python",
   "pygments_lexer": "ipython3",
   "version": "3.10.14"
  }
 },
 "nbformat": 4,
 "nbformat_minor": 5
}
