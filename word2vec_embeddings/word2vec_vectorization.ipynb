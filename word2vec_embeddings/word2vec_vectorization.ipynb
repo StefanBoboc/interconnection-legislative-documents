{
 "cells": [
  {
   "cell_type": "code",
   "execution_count": 1,
   "id": "33bc2cb3-7f9f-4cc4-b27d-c816a1c5371c",
   "metadata": {},
   "outputs": [
    {
     "name": "stdout",
     "output_type": "stream",
     "text": [
      "(39869, 6)\n",
      "(55478, 6)\n",
      "(67072, 6)\n"
     ]
    }
   ],
   "source": [
    "import pickle\n",
    "import pandas as pd\n",
    "import glob\n",
    "\n",
    "all_files = [\n",
    "    r\"C:\\Users\\xxxxx\\Desktop\\interconnection_legislative_documents\\02_load_and_preprocessing\\preprocessed_dataframe_1.pkl\",\n",
    "    r\"C:\\Users\\xxxxx\\Desktop\\interconnection_legislative_documents\\02_load_and_preprocessing\\preprocessed_dataframe_2.pkl\",\n",
    "    r\"C:\\Users\\xxxxx\\Desktop\\interconnection_legislative_documents\\02_load_and_preprocessing\\preprocessed_dataframe_3.pkl\",\n",
    "    r\"C:\\Users\\xxxxx\\Desktop\\interconnection_legislative_documents\\02_load_and_preprocessing\\preprocessed_dataframe_4.pkl\",\n",
    "    r\"C:\\Users\\xxxxx\\Desktop\\interconnection_legislative_documents\\02_load_and_preprocessing\\preprocessed_dataframe_5.pkl\",\n",
    "    r\"C:\\Users\\xxxxx\\Desktop\\interconnection_legislative_documents\\02_load_and_preprocessing\\preprocessed_dataframe_6.pkl\"\n",
    "]\n",
    "\n",
    "dataframes = []\n",
    "for file in all_files:\n",
    "    with open(file, 'rb') as file:\n",
    "        data = pickle.load(file)\n",
    "        print(data.shape)\n",
    "    dataframes.append(data)\n",
    "\n",
    "combined_df = pd.concat(dataframes, ignore_index=True)"
   ]
  },
  {
   "cell_type": "code",
   "execution_count": 2,
   "id": "fa12bcfd-5c2a-44a4-85a4-1af881e1973c",
   "metadata": {},
   "outputs": [
    {
     "data": {
      "text/plain": [
       "(162419, 6)"
      ]
     },
     "execution_count": 2,
     "metadata": {},
     "output_type": "execute_result"
    }
   ],
   "source": [
    "combined_df.shape"
   ]
  },
  {
   "cell_type": "code",
   "execution_count": 5,
   "id": "93cbd5b2-c090-41d0-9df0-935ce842e592",
   "metadata": {},
   "outputs": [
    {
     "data": {
      "text/html": [
       "<div>\n",
       "<style scoped>\n",
       "    .dataframe tbody tr th:only-of-type {\n",
       "        vertical-align: middle;\n",
       "    }\n",
       "\n",
       "    .dataframe tbody tr th {\n",
       "        vertical-align: top;\n",
       "    }\n",
       "\n",
       "    .dataframe thead th {\n",
       "        text-align: right;\n",
       "    }\n",
       "</style>\n",
       "<table border=\"1\" class=\"dataframe\">\n",
       "  <thead>\n",
       "    <tr style=\"text-align: right;\">\n",
       "      <th></th>\n",
       "      <th>men_id</th>\n",
       "      <th>men_text</th>\n",
       "      <th>phrase</th>\n",
       "      <th>men_href_title</th>\n",
       "      <th>men_href</th>\n",
       "      <th>doc_id</th>\n",
       "    </tr>\n",
       "  </thead>\n",
       "  <tbody>\n",
       "    <tr>\n",
       "      <th>0</th>\n",
       "      <td>678957</td>\n",
       "      <td>[cod, aerian]</td>\n",
       "      <td>[lege, număr, 21, 18, martie, 2020, privind, c...</td>\n",
       "      <td>[cod, aerian, 18, martie, 2020]</td>\n",
       "      <td>https://legislatie.just.ro/Public/DetaliiDocum...</td>\n",
       "      <td>31855</td>\n",
       "    </tr>\n",
       "    <tr>\n",
       "      <th>1</th>\n",
       "      <td>678958</td>\n",
       "      <td>[cod, aerian]</td>\n",
       "      <td>[lege, număr, 21, 18, martie, 2020, privind, c...</td>\n",
       "      <td>[cod, aerian, 18, martie, 2020]</td>\n",
       "      <td>https://legislatie.just.ro/Public/DetaliiDocum...</td>\n",
       "      <td>31855</td>\n",
       "    </tr>\n",
       "    <tr>\n",
       "      <th>2</th>\n",
       "      <td>389916</td>\n",
       "      <td>[raport, 11, noiembrie, 2022]</td>\n",
       "      <td>[raport, 16, noiembrie, 2022, evaluare, medica...</td>\n",
       "      <td>[raport, 11, noiembrie, 2022]</td>\n",
       "      <td>https://legislatie.just.ro/Public/DetaliiDocum...</td>\n",
       "      <td>18361</td>\n",
       "    </tr>\n",
       "    <tr>\n",
       "      <th>3</th>\n",
       "      <td>509639</td>\n",
       "      <td>[regulament, 18, 2021]</td>\n",
       "      <td>[regulament, 18, 2021, privind, acces, spectat...</td>\n",
       "      <td>[regulament, 18, 2021]</td>\n",
       "      <td>https://legislatie.just.ro/Public/DetaliiDocum...</td>\n",
       "      <td>24784</td>\n",
       "    </tr>\n",
       "    <tr>\n",
       "      <th>4</th>\n",
       "      <td>556005</td>\n",
       "      <td>[regulament, 30, iulie, 2021]</td>\n",
       "      <td>[regulament, 9, august, 2021, privind, acces, ...</td>\n",
       "      <td>[regulament, 30, iulie, 2021]</td>\n",
       "      <td>https://legislatie.just.ro/Public/DetaliiDocum...</td>\n",
       "      <td>26803</td>\n",
       "    </tr>\n",
       "  </tbody>\n",
       "</table>\n",
       "</div>"
      ],
      "text/plain": [
       "   men_id                       men_text  \\\n",
       "0  678957                  [cod, aerian]   \n",
       "1  678958                  [cod, aerian]   \n",
       "2  389916  [raport, 11, noiembrie, 2022]   \n",
       "3  509639         [regulament, 18, 2021]   \n",
       "4  556005  [regulament, 30, iulie, 2021]   \n",
       "\n",
       "                                              phrase  \\\n",
       "0  [lege, număr, 21, 18, martie, 2020, privind, c...   \n",
       "1  [lege, număr, 21, 18, martie, 2020, privind, c...   \n",
       "2  [raport, 16, noiembrie, 2022, evaluare, medica...   \n",
       "3  [regulament, 18, 2021, privind, acces, spectat...   \n",
       "4  [regulament, 9, august, 2021, privind, acces, ...   \n",
       "\n",
       "                    men_href_title  \\\n",
       "0  [cod, aerian, 18, martie, 2020]   \n",
       "1  [cod, aerian, 18, martie, 2020]   \n",
       "2    [raport, 11, noiembrie, 2022]   \n",
       "3           [regulament, 18, 2021]   \n",
       "4    [regulament, 30, iulie, 2021]   \n",
       "\n",
       "                                            men_href  doc_id  \n",
       "0  https://legislatie.just.ro/Public/DetaliiDocum...   31855  \n",
       "1  https://legislatie.just.ro/Public/DetaliiDocum...   31855  \n",
       "2  https://legislatie.just.ro/Public/DetaliiDocum...   18361  \n",
       "3  https://legislatie.just.ro/Public/DetaliiDocum...   24784  \n",
       "4  https://legislatie.just.ro/Public/DetaliiDocum...   26803  "
      ]
     },
     "execution_count": 5,
     "metadata": {},
     "output_type": "execute_result"
    }
   ],
   "source": [
    "combined_df.head()"
   ]
  },
  {
   "cell_type": "code",
   "execution_count": 8,
   "id": "9606a800-ed53-4a31-adda-788f28f0102d",
   "metadata": {},
   "outputs": [
    {
     "name": "stdout",
     "output_type": "stream",
     "text": [
      "2\n",
      "718\n"
     ]
    }
   ],
   "source": [
    "print(combined_df['phrase'].apply(len).min())\n",
    "print(combined_df['phrase'].apply(len).max())"
   ]
  },
  {
   "cell_type": "code",
   "execution_count": 9,
   "id": "8dbb1ac6-7c60-4c55-827f-e99c937a1217",
   "metadata": {},
   "outputs": [],
   "source": [
    "phrase_text = combined_df['phrase']"
   ]
  },
  {
   "cell_type": "code",
   "execution_count": 11,
   "id": "3b2e4336-0ca3-4d13-b832-b5ad011977b9",
   "metadata": {},
   "outputs": [
    {
     "data": {
      "text/plain": [
       "0         [lege, număr, 21, 18, martie, 2020, privind, c...\n",
       "1         [lege, număr, 21, 18, martie, 2020, privind, c...\n",
       "2         [raport, 16, noiembrie, 2022, evaluare, medica...\n",
       "3         [regulament, 18, 2021, privind, acces, spectat...\n",
       "4         [regulament, 9, august, 2021, privind, acces, ...\n",
       "                                ...                        \n",
       "162414    [ordin, număr, 48, 29, martie, 2022, modificar...\n",
       "162415    [ordin, număr, 48, 29, martie, 2022, modificar...\n",
       "162416    [ordin, număr, 48, 29, martie, 2022, modificar...\n",
       "162417    [ordin, număr, 48, 29, martie, 2022, modificar...\n",
       "162418    [ordin, număr, 48, 29, martie, 2022, modificar...\n",
       "Name: phrase, Length: 162419, dtype: object"
      ]
     },
     "execution_count": 11,
     "metadata": {},
     "output_type": "execute_result"
    }
   ],
   "source": [
    "phrase_text"
   ]
  },
  {
   "cell_type": "code",
   "execution_count": 3,
   "id": "5e526b21-38dd-4a97-9830-ffad4dd71d87",
   "metadata": {},
   "outputs": [],
   "source": [
    "import gensim"
   ]
  },
  {
   "cell_type": "code",
   "execution_count": 7,
   "id": "25a14639-4982-4c0b-8410-1f331f9279d0",
   "metadata": {},
   "outputs": [],
   "source": [
    "model = gensim.models.Word2Vec(\n",
    "    window=10,\n",
    "    min_count=3,\n",
    "    workers=4,\n",
    ")"
   ]
  },
  {
   "cell_type": "code",
   "execution_count": 12,
   "id": "d0821f7d-abc4-461a-94a3-2c68f4478f19",
   "metadata": {},
   "outputs": [],
   "source": [
    "model.build_vocab(phrase_text, progress_per=1000)"
   ]
  },
  {
   "cell_type": "code",
   "execution_count": 14,
   "id": "629432ac-e63d-4b60-bb1f-b16dac00afe9",
   "metadata": {},
   "outputs": [
    {
     "data": {
      "text/plain": [
       "162419"
      ]
     },
     "execution_count": 14,
     "metadata": {},
     "output_type": "execute_result"
    }
   ],
   "source": [
    "model.corpus_count"
   ]
  },
  {
   "cell_type": "code",
   "execution_count": 15,
   "id": "d3eb7a1f-1635-4f6b-8ef2-6950971f07e9",
   "metadata": {},
   "outputs": [
    {
     "data": {
      "text/plain": [
       "(44603143, 66082755)"
      ]
     },
     "execution_count": 15,
     "metadata": {},
     "output_type": "execute_result"
    }
   ],
   "source": [
    "model.train(phrase_text, total_examples=model.corpus_count, epochs=model.epochs)"
   ]
  },
  {
   "cell_type": "code",
   "execution_count": 16,
   "id": "5cdb0430-c72e-4e36-b14d-9ca3a7d7d92e",
   "metadata": {},
   "outputs": [],
   "source": [
    "model.save(\"word2vec_vectorization.model\")"
   ]
  },
  {
   "cell_type": "code",
   "execution_count": 18,
   "id": "424529c4-5433-48a6-b95b-f6c955edb4af",
   "metadata": {},
   "outputs": [
    {
     "name": "stdout",
     "output_type": "stream",
     "text": [
      "[ 1.8401498e+00 -7.5152880e-01 -4.1256174e-03  3.3732555e+00\n",
      "  2.0271308e+00  2.0548689e-01 -4.9401172e-02  5.0947213e+00\n",
      " -1.9479896e+00  2.2946680e-01  5.9318620e-01 -1.9501083e+00\n",
      " -1.3414459e+00  1.9822453e+00  4.1157813e+00  1.7923089e+00\n",
      " -2.4421978e+00  3.8899503e+00  4.2383490e+00 -2.9179177e-01\n",
      "  5.3044887e+00 -4.1152539e+00  1.3206527e+00  1.7937627e+00\n",
      " -1.1284122e+00  1.6687942e+00 -5.8473625e+00 -1.0969222e+00\n",
      " -1.6975303e-01 -7.9952002e-01  1.6106735e+00 -5.7049952e+00\n",
      " -2.3679309e+00 -1.8836136e-01  4.1812773e+00 -1.7633498e+00\n",
      "  3.6939857e+00  3.8272367e+00 -8.0117333e-01  2.0227718e+00\n",
      "  3.6063116e+00  7.1965897e-01 -9.7545671e-01 -2.6872775e-01\n",
      " -1.7505786e+00  7.5192261e-01  1.9809237e+00  5.6761491e-01\n",
      "  3.3055212e+00 -3.8918352e+00 -1.2595074e+00  4.1353250e+00\n",
      "  2.3933554e+00 -1.6001219e+00  6.7236853e+00  8.6992854e-01\n",
      "  3.2205543e-01  6.1582220e-01 -1.8364919e+00 -2.7619007e+00\n",
      " -4.1065745e+00  1.5590400e+00  2.7877290e+00  1.6959109e+00\n",
      "  2.3054264e+00 -3.2498281e+00  2.2112958e+00  6.4619201e-01\n",
      " -5.4559622e+00 -5.5694740e-02  5.3503981e+00  3.3587062e-01\n",
      " -3.6453208e-01  7.0653540e-01 -2.9859123e+00  2.0318730e+00\n",
      "  1.4155387e+00  2.1744856e-01  1.6736981e+00 -1.6157793e+00\n",
      "  1.5994948e+00  2.1205688e+00 -1.2213571e+00  7.4986798e-01\n",
      "  4.4694912e-01 -4.4707663e-02 -3.5205569e+00 -2.1936750e+00\n",
      "  1.8745156e-01 -2.5218613e+00 -4.5706735e+00 -3.5764968e+00\n",
      "  1.5777522e+00  5.2013469e+00 -1.3235955e+00 -8.6911964e-01\n",
      " -1.0832313e+00 -1.4546590e+00 -9.8841745e-01  1.0940137e+00]\n"
     ]
    }
   ],
   "source": [
    "print(model.wv.get_vector('România'))"
   ]
  }
 ],
 "metadata": {
  "kernelspec": {
   "display_name": "Python 3 (ipykernel)",
   "language": "python",
   "name": "python3"
  },
  "language_info": {
   "codemirror_mode": {
    "name": "ipython",
    "version": 3
   },
   "file_extension": ".py",
   "mimetype": "text/x-python",
   "name": "python",
   "nbconvert_exporter": "python",
   "pygments_lexer": "ipython3",
   "version": "3.10.14"
  }
 },
 "nbformat": 4,
 "nbformat_minor": 5
}
