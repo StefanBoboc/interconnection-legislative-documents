{
 "cells": [
  {
   "cell_type": "code",
   "execution_count": 2,
   "id": "f395db95-7ac2-4be9-b8c3-1acb81e84189",
   "metadata": {},
   "outputs": [],
   "source": [
    "import pandas as pd\n",
    "import pickle\n",
    "import annoy\n",
    "import numpy as np\n",
    "from gensim.models import Word2Vec"
   ]
  },
  {
   "cell_type": "code",
   "execution_count": 3,
   "id": "f43b2fd1-1f19-463b-ba60-2bfa0ed4994e",
   "metadata": {},
   "outputs": [
    {
     "data": {
      "text/plain": [
       "True"
      ]
     },
     "execution_count": 3,
     "metadata": {},
     "output_type": "execute_result"
    }
   ],
   "source": [
    "# Load Word Embeddings\n",
    "word2vec_model = Word2Vec.load(r'C:\\Users\\Stefan\\Desktop\\licenta_mea_de_10\\03_word_embadings\\word2vec_embeddings-unique_phrases-ep20\\word2vec_embeddings-unique_phrases-ep20.model')\n",
    "\n",
    "# Load Annoy \n",
    "vector_length = 100\n",
    "annoy_index = annoy.AnnoyIndex(vector_length, metric='angular')\n",
    "annoy_index.load('annoy_index-10ktrees.ann', prefault=True)"
   ]
  },
  {
   "cell_type": "code",
   "execution_count": 4,
   "id": "5cfe275e-2ea0-4abc-9c5e-b521ed9a9000",
   "metadata": {},
   "outputs": [],
   "source": [
    "# Load pickle file in chunks (test set)\n",
    "def load_data(filename):\n",
    "    chunks = []\n",
    "    with open(filename, 'rb') as f:\n",
    "        while True:\n",
    "            try:\n",
    "                chunk = pickle.load(f)\n",
    "                chunks.append(chunk)\n",
    "            except EOFError:\n",
    "                break\n",
    "    return pd.concat(chunks, ignore_index=True)"
   ]
  },
  {
   "cell_type": "code",
   "execution_count": 5,
   "id": "3595ecb8-e0ea-4fbe-a181-bab83d36c417",
   "metadata": {},
   "outputs": [],
   "source": [
    "# Calculate word embeddings mean\n",
    "def get_embeddings(word_list, model):\n",
    "    embeddings = []\n",
    "    for word in word_list:\n",
    "        if word in model.wv:\n",
    "            embeddings.append(model.wv[word])\n",
    "        else:\n",
    "            embeddings.append(np.zeros(model.vector_size))\n",
    "    return np.mean(embeddings, axis=0)"
   ]
  },
  {
   "cell_type": "code",
   "execution_count": 6,
   "id": "07c97866-0141-4b07-a27c-cfa83c7c8e8b",
   "metadata": {},
   "outputs": [],
   "source": [
    "# Check if true value is among the top k predicted values\n",
    "def check_in_list(row):\n",
    "  return row['men_href_title_id'] in row['predicted_candidates_list']"
   ]
  },
  {
   "cell_type": "code",
   "execution_count": 7,
   "id": "3dc8016e-0dab-407b-bb07-f46e5ae24f60",
   "metadata": {},
   "outputs": [],
   "source": [
    "# Obtain the top k candidates using Annoy\n",
    "def get_top_k_candidates(embedding, num_matches):\n",
    "    ids = annoy_index.get_nns_by_vector(\n",
    "        embedding,\n",
    "        num_matches,\n",
    "        search_k = -1,\n",
    "        include_distances=False\n",
    "    )\n",
    "    \n",
    "    return [i for i in ids]"
   ]
  },
  {
   "cell_type": "code",
   "execution_count": 8,
   "id": "071836c4-0714-4fdd-9e73-f57cdbe7a7ae",
   "metadata": {},
   "outputs": [
    {
     "name": "stderr",
     "output_type": "stream",
     "text": [
      "C:\\Users\\Stefan\\anaconda3\\envs\\mytensorflow-gpu\\lib\\site-packages\\numpy\\core\\fromnumeric.py:3504: RuntimeWarning: Mean of empty slice.\n",
      "  return _methods._mean(a, axis=axis, dtype=dtype,\n",
      "C:\\Users\\Stefan\\anaconda3\\envs\\mytensorflow-gpu\\lib\\site-packages\\numpy\\core\\_methods.py:129: RuntimeWarning: invalid value encountered in scalar divide\n",
      "  ret = ret.dtype.type(ret / rcount)\n"
     ]
    }
   ],
   "source": [
    "# Load test data\n",
    "loaded_df = load_data('test_data-less_then_4_men_filtered.pkl')\n",
    "\n",
    "# Load mention mean embedding\n",
    "loaded_df['emb_men_text'] = loaded_df['men_text'].apply(lambda x: get_embeddings(x, word2vec_model))"
   ]
  },
  {
   "cell_type": "code",
   "execution_count": 9,
   "id": "d38baca5-73c8-46f1-b8b8-3b61f4c71a89",
   "metadata": {},
   "outputs": [
    {
     "data": {
      "text/html": [
       "<div>\n",
       "<style scoped>\n",
       "    .dataframe tbody tr th:only-of-type {\n",
       "        vertical-align: middle;\n",
       "    }\n",
       "\n",
       "    .dataframe tbody tr th {\n",
       "        vertical-align: top;\n",
       "    }\n",
       "\n",
       "    .dataframe thead th {\n",
       "        text-align: right;\n",
       "    }\n",
       "</style>\n",
       "<table border=\"1\" class=\"dataframe\">\n",
       "  <thead>\n",
       "    <tr style=\"text-align: right;\">\n",
       "      <th></th>\n",
       "      <th>men_id</th>\n",
       "      <th>men_text</th>\n",
       "      <th>phrase</th>\n",
       "      <th>men_href_title</th>\n",
       "      <th>men_href_title_id</th>\n",
       "      <th>emb_men_text</th>\n",
       "    </tr>\n",
       "  </thead>\n",
       "  <tbody>\n",
       "    <tr>\n",
       "      <th>0</th>\n",
       "      <td>565003</td>\n",
       "      <td>[15, lege, contencios, administrativ, număr, 5...</td>\n",
       "      <td>[obligație, fiscal, stabili, act, administrati...</td>\n",
       "      <td>[lege, număr, 554, 2, decembrie, 2004]</td>\n",
       "      <td>10083</td>\n",
       "      <td>[-1.5641718, -0.6049332, -2.4777005, 0.7451549...</td>\n",
       "    </tr>\n",
       "    <tr>\n",
       "      <th>1</th>\n",
       "      <td>155608</td>\n",
       "      <td>[legea-cadru, număr, 153/2017]</td>\n",
       "      <td>[29, însă, dată, 1, iulie, 2017, intra, vigoar...</td>\n",
       "      <td>[lege-cadru, număr, 153, 28, iunie, 2017]</td>\n",
       "      <td>10497</td>\n",
       "      <td>[1.261335, 0.52220327, -4.000471, 4.380332, -3...</td>\n",
       "    </tr>\n",
       "    <tr>\n",
       "      <th>2</th>\n",
       "      <td>1320370</td>\n",
       "      <td>[cod, deontologic]</td>\n",
       "      <td>[hotărâre, număr, 10, 21, aprilie, 2017, aprob...</td>\n",
       "      <td>[cod, deontologic, 14, noiembrie, 2015]</td>\n",
       "      <td>507</td>\n",
       "      <td>[2.5022848, 1.6882548, 0.93107533, 1.908083, -...</td>\n",
       "    </tr>\n",
       "    <tr>\n",
       "      <th>3</th>\n",
       "      <td>992802</td>\n",
       "      <td>[3]</td>\n",
       "      <td>[65, articol, 220, alineat, 2, 3, modifica, ur...</td>\n",
       "      <td>[regulament, 5, martie, 2018]</td>\n",
       "      <td>18969</td>\n",
       "      <td>[0.2195049, -3.3490834, -2.8692324, 0.79235923...</td>\n",
       "    </tr>\n",
       "    <tr>\n",
       "      <th>4</th>\n",
       "      <td>1391928</td>\n",
       "      <td>[articol, 20, alineat, 1, lege, număr, 213/1998]</td>\n",
       "      <td>[temei, articol, 108, constituție, România, re...</td>\n",
       "      <td>[lege, număr, 213, 17, noiembrie, 1998]</td>\n",
       "      <td>8906</td>\n",
       "      <td>[0.17845795, -1.6992744, -2.5976417, -0.271391...</td>\n",
       "    </tr>\n",
       "  </tbody>\n",
       "</table>\n",
       "</div>"
      ],
      "text/plain": [
       "    men_id                                           men_text  \\\n",
       "0   565003  [15, lege, contencios, administrativ, număr, 5...   \n",
       "1   155608                     [legea-cadru, număr, 153/2017]   \n",
       "2  1320370                                 [cod, deontologic]   \n",
       "3   992802                                                [3]   \n",
       "4  1391928   [articol, 20, alineat, 1, lege, număr, 213/1998]   \n",
       "\n",
       "                                              phrase  \\\n",
       "0  [obligație, fiscal, stabili, act, administrati...   \n",
       "1  [29, însă, dată, 1, iulie, 2017, intra, vigoar...   \n",
       "2  [hotărâre, număr, 10, 21, aprilie, 2017, aprob...   \n",
       "3  [65, articol, 220, alineat, 2, 3, modifica, ur...   \n",
       "4  [temei, articol, 108, constituție, România, re...   \n",
       "\n",
       "                              men_href_title  men_href_title_id  \\\n",
       "0     [lege, număr, 554, 2, decembrie, 2004]              10083   \n",
       "1  [lege-cadru, număr, 153, 28, iunie, 2017]              10497   \n",
       "2    [cod, deontologic, 14, noiembrie, 2015]                507   \n",
       "3              [regulament, 5, martie, 2018]              18969   \n",
       "4    [lege, număr, 213, 17, noiembrie, 1998]               8906   \n",
       "\n",
       "                                        emb_men_text  \n",
       "0  [-1.5641718, -0.6049332, -2.4777005, 0.7451549...  \n",
       "1  [1.261335, 0.52220327, -4.000471, 4.380332, -3...  \n",
       "2  [2.5022848, 1.6882548, 0.93107533, 1.908083, -...  \n",
       "3  [0.2195049, -3.3490834, -2.8692324, 0.79235923...  \n",
       "4  [0.17845795, -1.6992744, -2.5976417, -0.271391...  "
      ]
     },
     "execution_count": 9,
     "metadata": {},
     "output_type": "execute_result"
    }
   ],
   "source": [
    "loaded_df.head()"
   ]
  },
  {
   "cell_type": "code",
   "execution_count": 22,
   "id": "726b2317-8033-4d24-9fe0-2bfa0d941350",
   "metadata": {},
   "outputs": [
    {
     "data": {
      "text/html": [
       "<div>\n",
       "<style scoped>\n",
       "    .dataframe tbody tr th:only-of-type {\n",
       "        vertical-align: middle;\n",
       "    }\n",
       "\n",
       "    .dataframe tbody tr th {\n",
       "        vertical-align: top;\n",
       "    }\n",
       "\n",
       "    .dataframe thead th {\n",
       "        text-align: right;\n",
       "    }\n",
       "</style>\n",
       "<table border=\"1\" class=\"dataframe\">\n",
       "  <thead>\n",
       "    <tr style=\"text-align: right;\">\n",
       "      <th></th>\n",
       "      <th>men_id</th>\n",
       "      <th>men_text</th>\n",
       "      <th>phrase</th>\n",
       "      <th>men_href_title</th>\n",
       "      <th>men_href_title_id</th>\n",
       "      <th>emb_men_text</th>\n",
       "    </tr>\n",
       "  </thead>\n",
       "  <tbody>\n",
       "    <tr>\n",
       "      <th>108</th>\n",
       "      <td>1046852</td>\n",
       "      <td>[]</td>\n",
       "      <td>[interpretare, aplicare, unitar, dispoziție, a...</td>\n",
       "      <td>[lege, număr, 554, 2, decembrie, 2004]</td>\n",
       "      <td>10083</td>\n",
       "      <td>NaN</td>\n",
       "    </tr>\n",
       "    <tr>\n",
       "      <th>181</th>\n",
       "      <td>1123390</td>\n",
       "      <td>[]</td>\n",
       "      <td>[avea, vedere, obiectiv, comisie, anchetă, pre...</td>\n",
       "      <td>[hotărâre, număr, 11, 20, februarie, 2018]</td>\n",
       "      <td>5894</td>\n",
       "      <td>NaN</td>\n",
       "    </tr>\n",
       "    <tr>\n",
       "      <th>314</th>\n",
       "      <td>474434</td>\n",
       "      <td>[]</td>\n",
       "      <td>[14, articol, 176, literă, modifica, următor, ...</td>\n",
       "      <td>[lege, număr, 302, 26, iunie, 2004, republicat]</td>\n",
       "      <td>10532</td>\n",
       "      <td>NaN</td>\n",
       "    </tr>\n",
       "    <tr>\n",
       "      <th>359</th>\n",
       "      <td>1381640</td>\n",
       "      <td>[]</td>\n",
       "      <td>[ordin, număr, 75, 9, august, 2017, modificare...</td>\n",
       "      <td>[ordonanţă, urgenţă, număr, 33, 4, 2007, actua...</td>\n",
       "      <td>16699</td>\n",
       "      <td>NaN</td>\n",
       "    </tr>\n",
       "    <tr>\n",
       "      <th>525</th>\n",
       "      <td>1401143</td>\n",
       "      <td>[]</td>\n",
       "      <td>[articol, punct, 1, literă, alineat, 7, ^, 1, ...</td>\n",
       "      <td>[ordonanță, urgență, număr, 69, 12, octombrie,...</td>\n",
       "      <td>17137</td>\n",
       "      <td>NaN</td>\n",
       "    </tr>\n",
       "    <tr>\n",
       "      <th>...</th>\n",
       "      <td>...</td>\n",
       "      <td>...</td>\n",
       "      <td>...</td>\n",
       "      <td>...</td>\n",
       "      <td>...</td>\n",
       "      <td>...</td>\n",
       "    </tr>\n",
       "    <tr>\n",
       "      <th>267671</th>\n",
       "      <td>780171</td>\n",
       "      <td>[]</td>\n",
       "      <td>[valoare, maxim, garanție, individual, determi...</td>\n",
       "      <td>[hotărâre, număr, 717, 17, iunie, 2009]</td>\n",
       "      <td>7293</td>\n",
       "      <td>NaN</td>\n",
       "    </tr>\n",
       "    <tr>\n",
       "      <th>267803</th>\n",
       "      <td>1410382</td>\n",
       "      <td>[]</td>\n",
       "      <td>[penitenciar, miercurea-ciuc, spațiu, cazare, ...</td>\n",
       "      <td>[lege, număr, 254, 19, iulie, 2013]</td>\n",
       "      <td>9227</td>\n",
       "      <td>NaN</td>\n",
       "    </tr>\n",
       "    <tr>\n",
       "      <th>267892</th>\n",
       "      <td>316082</td>\n",
       "      <td>[]</td>\n",
       "      <td>[197, articol, 133, alineat, 1, literă, modifi...</td>\n",
       "      <td>[ordonanță, urgență, număr, 111, 14, decembrie...</td>\n",
       "      <td>16112</td>\n",
       "      <td>NaN</td>\n",
       "    </tr>\n",
       "    <tr>\n",
       "      <th>268252</th>\n",
       "      <td>780283</td>\n",
       "      <td>[]</td>\n",
       "      <td>[87, anexă, număr, 5, anexă, număr, 6, articol...</td>\n",
       "      <td>[ordin, număr, 2.225/994/2009]</td>\n",
       "      <td>13406</td>\n",
       "      <td>NaN</td>\n",
       "    </tr>\n",
       "    <tr>\n",
       "      <th>268295</th>\n",
       "      <td>242094</td>\n",
       "      <td>[]</td>\n",
       "      <td>[4, prim, critică, neconstituționalitate, viza...</td>\n",
       "      <td>[lege, număr, 407, 9, noiembrie, 2006]</td>\n",
       "      <td>9853</td>\n",
       "      <td>NaN</td>\n",
       "    </tr>\n",
       "  </tbody>\n",
       "</table>\n",
       "<p>1747 rows × 6 columns</p>\n",
       "</div>"
      ],
      "text/plain": [
       "         men_id men_text                                             phrase  \\\n",
       "108     1046852       []  [interpretare, aplicare, unitar, dispoziție, a...   \n",
       "181     1123390       []  [avea, vedere, obiectiv, comisie, anchetă, pre...   \n",
       "314      474434       []  [14, articol, 176, literă, modifica, următor, ...   \n",
       "359     1381640       []  [ordin, număr, 75, 9, august, 2017, modificare...   \n",
       "525     1401143       []  [articol, punct, 1, literă, alineat, 7, ^, 1, ...   \n",
       "...         ...      ...                                                ...   \n",
       "267671   780171       []  [valoare, maxim, garanție, individual, determi...   \n",
       "267803  1410382       []  [penitenciar, miercurea-ciuc, spațiu, cazare, ...   \n",
       "267892   316082       []  [197, articol, 133, alineat, 1, literă, modifi...   \n",
       "268252   780283       []  [87, anexă, număr, 5, anexă, număr, 6, articol...   \n",
       "268295   242094       []  [4, prim, critică, neconstituționalitate, viza...   \n",
       "\n",
       "                                           men_href_title  men_href_title_id  \\\n",
       "108                [lege, număr, 554, 2, decembrie, 2004]              10083   \n",
       "181            [hotărâre, număr, 11, 20, februarie, 2018]               5894   \n",
       "314       [lege, număr, 302, 26, iunie, 2004, republicat]              10532   \n",
       "359     [ordonanţă, urgenţă, număr, 33, 4, 2007, actua...              16699   \n",
       "525     [ordonanță, urgență, număr, 69, 12, octombrie,...              17137   \n",
       "...                                                   ...                ...   \n",
       "267671            [hotărâre, număr, 717, 17, iunie, 2009]               7293   \n",
       "267803                [lege, număr, 254, 19, iulie, 2013]               9227   \n",
       "267892  [ordonanță, urgență, număr, 111, 14, decembrie...              16112   \n",
       "268252                     [ordin, număr, 2.225/994/2009]              13406   \n",
       "268295             [lege, număr, 407, 9, noiembrie, 2006]               9853   \n",
       "\n",
       "       emb_men_text  \n",
       "108             NaN  \n",
       "181             NaN  \n",
       "314             NaN  \n",
       "359             NaN  \n",
       "525             NaN  \n",
       "...             ...  \n",
       "267671          NaN  \n",
       "267803          NaN  \n",
       "267892          NaN  \n",
       "268252          NaN  \n",
       "268295          NaN  \n",
       "\n",
       "[1747 rows x 6 columns]"
      ]
     },
     "execution_count": 22,
     "metadata": {},
     "output_type": "execute_result"
    }
   ],
   "source": [
    "# Sanitizes test data. Remove empty mentions\n",
    "loaded_df[loaded_df['emb_men_text'].isna()]"
   ]
  },
  {
   "cell_type": "code",
   "execution_count": 23,
   "id": "3c9f3d21-9564-40dc-95da-78b5ea8cb4c2",
   "metadata": {},
   "outputs": [],
   "source": [
    "loaded_df = loaded_df[loaded_df['emb_men_text'].notna()]"
   ]
  },
  {
   "cell_type": "code",
   "execution_count": 24,
   "id": "d3615a72-39dd-4d66-80f1-6ad0ac91f77a",
   "metadata": {},
   "outputs": [
    {
     "data": {
      "text/plain": [
       "(266994, 6)"
      ]
     },
     "execution_count": 24,
     "metadata": {},
     "output_type": "execute_result"
    }
   ],
   "source": [
    "loaded_df.shape"
   ]
  },
  {
   "cell_type": "code",
   "execution_count": 25,
   "id": "951845a2-f8a5-4926-95fc-e641a872bd26",
   "metadata": {},
   "outputs": [],
   "source": [
    "emb_men_text = loaded_df['emb_men_text']\n",
    "men_href_title_id = loaded_df['men_href_title_id']"
   ]
  },
  {
   "cell_type": "code",
   "execution_count": 26,
   "id": "d24fd399-bde5-4874-a078-199c7b6f10e0",
   "metadata": {},
   "outputs": [],
   "source": [
    "# Predicted tops\n",
    "predicted_candidates_list = emb_men_text.apply(lambda x: get_top_k_candidates(x, 10)).tolist()"
   ]
  },
  {
   "cell_type": "code",
   "execution_count": 27,
   "id": "6c1c939d-e8bd-4ddc-b686-151371dec6d1",
   "metadata": {},
   "outputs": [
    {
     "data": {
      "text/plain": [
       "266994"
      ]
     },
     "execution_count": 27,
     "metadata": {},
     "output_type": "execute_result"
    }
   ],
   "source": [
    "len(predicted_candidates_list)"
   ]
  },
  {
   "cell_type": "code",
   "execution_count": 29,
   "id": "dcc43a6f-cec7-4d0a-919e-a62b9c9c9aba",
   "metadata": {},
   "outputs": [
    {
     "data": {
      "text/plain": [
       "[[655, 18028, 18498, 5340, 18021, 18285, 18208, 18362, 18024, 18499],\n",
       " [502, 503, 543, 546, 729, 8675, 8101, 11811, 516, 10511],\n",
       " [18351, 11221, 518, 519, 10456, 11223, 17454, 17466, 17438, 6025],\n",
       " [677, 723, 656, 650, 720, 644, 526, 628, 655, 651],\n",
       " [677, 655, 526, 8756, 5141, 16543, 723, 483, 17454, 547]]"
      ]
     },
     "execution_count": 29,
     "metadata": {},
     "output_type": "execute_result"
    }
   ],
   "source": [
    "predicted_candidates_list[:5]"
   ]
  },
  {
   "cell_type": "code",
   "execution_count": 30,
   "id": "753403cb-0bae-49ab-97ee-584b8202261b",
   "metadata": {},
   "outputs": [],
   "source": [
    "loaded_df['predicted_candidates_list'] = predicted_candidates_list"
   ]
  },
  {
   "cell_type": "code",
   "execution_count": 31,
   "id": "a0b90438-027d-4e3f-8342-773ad77841c7",
   "metadata": {},
   "outputs": [
    {
     "data": {
      "text/html": [
       "<div>\n",
       "<style scoped>\n",
       "    .dataframe tbody tr th:only-of-type {\n",
       "        vertical-align: middle;\n",
       "    }\n",
       "\n",
       "    .dataframe tbody tr th {\n",
       "        vertical-align: top;\n",
       "    }\n",
       "\n",
       "    .dataframe thead th {\n",
       "        text-align: right;\n",
       "    }\n",
       "</style>\n",
       "<table border=\"1\" class=\"dataframe\">\n",
       "  <thead>\n",
       "    <tr style=\"text-align: right;\">\n",
       "      <th></th>\n",
       "      <th>men_id</th>\n",
       "      <th>men_text</th>\n",
       "      <th>phrase</th>\n",
       "      <th>men_href_title</th>\n",
       "      <th>men_href_title_id</th>\n",
       "      <th>emb_men_text</th>\n",
       "      <th>predicted_candidates_list</th>\n",
       "    </tr>\n",
       "  </thead>\n",
       "  <tbody>\n",
       "    <tr>\n",
       "      <th>0</th>\n",
       "      <td>565003</td>\n",
       "      <td>[15, lege, contencios, administrativ, număr, 5...</td>\n",
       "      <td>[obligație, fiscal, stabili, act, administrati...</td>\n",
       "      <td>[lege, număr, 554, 2, decembrie, 2004]</td>\n",
       "      <td>10083</td>\n",
       "      <td>[-1.5641718, -0.6049332, -2.4777005, 0.7451549...</td>\n",
       "      <td>[655, 18028, 18498, 5340, 18021, 18285, 18208,...</td>\n",
       "    </tr>\n",
       "    <tr>\n",
       "      <th>1</th>\n",
       "      <td>155608</td>\n",
       "      <td>[legea-cadru, număr, 153/2017]</td>\n",
       "      <td>[29, însă, dată, 1, iulie, 2017, intra, vigoar...</td>\n",
       "      <td>[lege-cadru, număr, 153, 28, iunie, 2017]</td>\n",
       "      <td>10497</td>\n",
       "      <td>[1.261335, 0.52220327, -4.000471, 4.380332, -3...</td>\n",
       "      <td>[502, 503, 543, 546, 729, 8675, 8101, 11811, 5...</td>\n",
       "    </tr>\n",
       "    <tr>\n",
       "      <th>2</th>\n",
       "      <td>1320370</td>\n",
       "      <td>[cod, deontologic]</td>\n",
       "      <td>[hotărâre, număr, 10, 21, aprilie, 2017, aprob...</td>\n",
       "      <td>[cod, deontologic, 14, noiembrie, 2015]</td>\n",
       "      <td>507</td>\n",
       "      <td>[2.5022848, 1.6882548, 0.93107533, 1.908083, -...</td>\n",
       "      <td>[18351, 11221, 518, 519, 10456, 11223, 17454, ...</td>\n",
       "    </tr>\n",
       "    <tr>\n",
       "      <th>3</th>\n",
       "      <td>992802</td>\n",
       "      <td>[3]</td>\n",
       "      <td>[65, articol, 220, alineat, 2, 3, modifica, ur...</td>\n",
       "      <td>[regulament, 5, martie, 2018]</td>\n",
       "      <td>18969</td>\n",
       "      <td>[0.2195049, -3.3490834, -2.8692324, 0.79235923...</td>\n",
       "      <td>[677, 723, 656, 650, 720, 644, 526, 628, 655, ...</td>\n",
       "    </tr>\n",
       "    <tr>\n",
       "      <th>4</th>\n",
       "      <td>1391928</td>\n",
       "      <td>[articol, 20, alineat, 1, lege, număr, 213/1998]</td>\n",
       "      <td>[temei, articol, 108, constituție, România, re...</td>\n",
       "      <td>[lege, număr, 213, 17, noiembrie, 1998]</td>\n",
       "      <td>8906</td>\n",
       "      <td>[0.17845795, -1.6992744, -2.5976417, -0.271391...</td>\n",
       "      <td>[677, 655, 526, 8756, 5141, 16543, 723, 483, 1...</td>\n",
       "    </tr>\n",
       "  </tbody>\n",
       "</table>\n",
       "</div>"
      ],
      "text/plain": [
       "    men_id                                           men_text  \\\n",
       "0   565003  [15, lege, contencios, administrativ, număr, 5...   \n",
       "1   155608                     [legea-cadru, număr, 153/2017]   \n",
       "2  1320370                                 [cod, deontologic]   \n",
       "3   992802                                                [3]   \n",
       "4  1391928   [articol, 20, alineat, 1, lege, număr, 213/1998]   \n",
       "\n",
       "                                              phrase  \\\n",
       "0  [obligație, fiscal, stabili, act, administrati...   \n",
       "1  [29, însă, dată, 1, iulie, 2017, intra, vigoar...   \n",
       "2  [hotărâre, număr, 10, 21, aprilie, 2017, aprob...   \n",
       "3  [65, articol, 220, alineat, 2, 3, modifica, ur...   \n",
       "4  [temei, articol, 108, constituție, România, re...   \n",
       "\n",
       "                              men_href_title  men_href_title_id  \\\n",
       "0     [lege, număr, 554, 2, decembrie, 2004]              10083   \n",
       "1  [lege-cadru, număr, 153, 28, iunie, 2017]              10497   \n",
       "2    [cod, deontologic, 14, noiembrie, 2015]                507   \n",
       "3              [regulament, 5, martie, 2018]              18969   \n",
       "4    [lege, număr, 213, 17, noiembrie, 1998]               8906   \n",
       "\n",
       "                                        emb_men_text  \\\n",
       "0  [-1.5641718, -0.6049332, -2.4777005, 0.7451549...   \n",
       "1  [1.261335, 0.52220327, -4.000471, 4.380332, -3...   \n",
       "2  [2.5022848, 1.6882548, 0.93107533, 1.908083, -...   \n",
       "3  [0.2195049, -3.3490834, -2.8692324, 0.79235923...   \n",
       "4  [0.17845795, -1.6992744, -2.5976417, -0.271391...   \n",
       "\n",
       "                           predicted_candidates_list  \n",
       "0  [655, 18028, 18498, 5340, 18021, 18285, 18208,...  \n",
       "1  [502, 503, 543, 546, 729, 8675, 8101, 11811, 5...  \n",
       "2  [18351, 11221, 518, 519, 10456, 11223, 17454, ...  \n",
       "3  [677, 723, 656, 650, 720, 644, 526, 628, 655, ...  \n",
       "4  [677, 655, 526, 8756, 5141, 16543, 723, 483, 1...  "
      ]
     },
     "execution_count": 31,
     "metadata": {},
     "output_type": "execute_result"
    }
   ],
   "source": [
    "loaded_df.head()"
   ]
  },
  {
   "cell_type": "code",
   "execution_count": 32,
   "id": "99cbc750-be9e-4508-aa66-470fd9835c93",
   "metadata": {},
   "outputs": [],
   "source": [
    "# Check presence of true lable among its predicted candidates\n",
    "loaded_df['presence']  = loaded_df.apply(check_in_list, axis=1)"
   ]
  },
  {
   "cell_type": "code",
   "execution_count": 33,
   "id": "c1e16dbe-3c32-44c1-b241-6ed5457e3603",
   "metadata": {},
   "outputs": [
    {
     "data": {
      "text/html": [
       "<div>\n",
       "<style scoped>\n",
       "    .dataframe tbody tr th:only-of-type {\n",
       "        vertical-align: middle;\n",
       "    }\n",
       "\n",
       "    .dataframe tbody tr th {\n",
       "        vertical-align: top;\n",
       "    }\n",
       "\n",
       "    .dataframe thead th {\n",
       "        text-align: right;\n",
       "    }\n",
       "</style>\n",
       "<table border=\"1\" class=\"dataframe\">\n",
       "  <thead>\n",
       "    <tr style=\"text-align: right;\">\n",
       "      <th></th>\n",
       "      <th>men_id</th>\n",
       "      <th>men_text</th>\n",
       "      <th>phrase</th>\n",
       "      <th>men_href_title</th>\n",
       "      <th>men_href_title_id</th>\n",
       "      <th>emb_men_text</th>\n",
       "      <th>predicted_candidates_list</th>\n",
       "      <th>presence</th>\n",
       "    </tr>\n",
       "  </thead>\n",
       "  <tbody>\n",
       "    <tr>\n",
       "      <th>0</th>\n",
       "      <td>565003</td>\n",
       "      <td>[15, lege, contencios, administrativ, număr, 5...</td>\n",
       "      <td>[obligație, fiscal, stabili, act, administrati...</td>\n",
       "      <td>[lege, număr, 554, 2, decembrie, 2004]</td>\n",
       "      <td>10083</td>\n",
       "      <td>[-1.5641718, -0.6049332, -2.4777005, 0.7451549...</td>\n",
       "      <td>[655, 18028, 18498, 5340, 18021, 18285, 18208,...</td>\n",
       "      <td>False</td>\n",
       "    </tr>\n",
       "    <tr>\n",
       "      <th>1</th>\n",
       "      <td>155608</td>\n",
       "      <td>[legea-cadru, număr, 153/2017]</td>\n",
       "      <td>[29, însă, dată, 1, iulie, 2017, intra, vigoar...</td>\n",
       "      <td>[lege-cadru, număr, 153, 28, iunie, 2017]</td>\n",
       "      <td>10497</td>\n",
       "      <td>[1.261335, 0.52220327, -4.000471, 4.380332, -3...</td>\n",
       "      <td>[502, 503, 543, 546, 729, 8675, 8101, 11811, 5...</td>\n",
       "      <td>False</td>\n",
       "    </tr>\n",
       "    <tr>\n",
       "      <th>2</th>\n",
       "      <td>1320370</td>\n",
       "      <td>[cod, deontologic]</td>\n",
       "      <td>[hotărâre, număr, 10, 21, aprilie, 2017, aprob...</td>\n",
       "      <td>[cod, deontologic, 14, noiembrie, 2015]</td>\n",
       "      <td>507</td>\n",
       "      <td>[2.5022848, 1.6882548, 0.93107533, 1.908083, -...</td>\n",
       "      <td>[18351, 11221, 518, 519, 10456, 11223, 17454, ...</td>\n",
       "      <td>False</td>\n",
       "    </tr>\n",
       "    <tr>\n",
       "      <th>3</th>\n",
       "      <td>992802</td>\n",
       "      <td>[3]</td>\n",
       "      <td>[65, articol, 220, alineat, 2, 3, modifica, ur...</td>\n",
       "      <td>[regulament, 5, martie, 2018]</td>\n",
       "      <td>18969</td>\n",
       "      <td>[0.2195049, -3.3490834, -2.8692324, 0.79235923...</td>\n",
       "      <td>[677, 723, 656, 650, 720, 644, 526, 628, 655, ...</td>\n",
       "      <td>False</td>\n",
       "    </tr>\n",
       "    <tr>\n",
       "      <th>4</th>\n",
       "      <td>1391928</td>\n",
       "      <td>[articol, 20, alineat, 1, lege, număr, 213/1998]</td>\n",
       "      <td>[temei, articol, 108, constituție, România, re...</td>\n",
       "      <td>[lege, număr, 213, 17, noiembrie, 1998]</td>\n",
       "      <td>8906</td>\n",
       "      <td>[0.17845795, -1.6992744, -2.5976417, -0.271391...</td>\n",
       "      <td>[677, 655, 526, 8756, 5141, 16543, 723, 483, 1...</td>\n",
       "      <td>False</td>\n",
       "    </tr>\n",
       "  </tbody>\n",
       "</table>\n",
       "</div>"
      ],
      "text/plain": [
       "    men_id                                           men_text  \\\n",
       "0   565003  [15, lege, contencios, administrativ, număr, 5...   \n",
       "1   155608                     [legea-cadru, număr, 153/2017]   \n",
       "2  1320370                                 [cod, deontologic]   \n",
       "3   992802                                                [3]   \n",
       "4  1391928   [articol, 20, alineat, 1, lege, număr, 213/1998]   \n",
       "\n",
       "                                              phrase  \\\n",
       "0  [obligație, fiscal, stabili, act, administrati...   \n",
       "1  [29, însă, dată, 1, iulie, 2017, intra, vigoar...   \n",
       "2  [hotărâre, număr, 10, 21, aprilie, 2017, aprob...   \n",
       "3  [65, articol, 220, alineat, 2, 3, modifica, ur...   \n",
       "4  [temei, articol, 108, constituție, România, re...   \n",
       "\n",
       "                              men_href_title  men_href_title_id  \\\n",
       "0     [lege, număr, 554, 2, decembrie, 2004]              10083   \n",
       "1  [lege-cadru, număr, 153, 28, iunie, 2017]              10497   \n",
       "2    [cod, deontologic, 14, noiembrie, 2015]                507   \n",
       "3              [regulament, 5, martie, 2018]              18969   \n",
       "4    [lege, număr, 213, 17, noiembrie, 1998]               8906   \n",
       "\n",
       "                                        emb_men_text  \\\n",
       "0  [-1.5641718, -0.6049332, -2.4777005, 0.7451549...   \n",
       "1  [1.261335, 0.52220327, -4.000471, 4.380332, -3...   \n",
       "2  [2.5022848, 1.6882548, 0.93107533, 1.908083, -...   \n",
       "3  [0.2195049, -3.3490834, -2.8692324, 0.79235923...   \n",
       "4  [0.17845795, -1.6992744, -2.5976417, -0.271391...   \n",
       "\n",
       "                           predicted_candidates_list  presence  \n",
       "0  [655, 18028, 18498, 5340, 18021, 18285, 18208,...     False  \n",
       "1  [502, 503, 543, 546, 729, 8675, 8101, 11811, 5...     False  \n",
       "2  [18351, 11221, 518, 519, 10456, 11223, 17454, ...     False  \n",
       "3  [677, 723, 656, 650, 720, 644, 526, 628, 655, ...     False  \n",
       "4  [677, 655, 526, 8756, 5141, 16543, 723, 483, 1...     False  "
      ]
     },
     "execution_count": 33,
     "metadata": {},
     "output_type": "execute_result"
    }
   ],
   "source": [
    "loaded_df.head()"
   ]
  },
  {
   "cell_type": "code",
   "execution_count": 34,
   "id": "ad2d4f73-b955-4f8f-9c96-2393a8d74967",
   "metadata": {},
   "outputs": [
    {
     "data": {
      "text/plain": [
       "2514"
      ]
     },
     "execution_count": 34,
     "metadata": {},
     "output_type": "execute_result"
    }
   ],
   "source": [
    "# Number of true labels among top k candidates\n",
    "loaded_df['presence'].sum()"
   ]
  },
  {
   "cell_type": "code",
   "execution_count": 35,
   "id": "b14d0c97-d331-44ef-b3c2-1ac24cc35236",
   "metadata": {},
   "outputs": [],
   "source": [
    "loaded_df.to_pickle(\"top_k_presence-2514_outof_266994.pkl\")"
   ]
  }
 ],
 "metadata": {
  "kernelspec": {
   "display_name": "Python 3 (ipykernel)",
   "language": "python",
   "name": "python3"
  },
  "language_info": {
   "codemirror_mode": {
    "name": "ipython",
    "version": 3
   },
   "file_extension": ".py",
   "mimetype": "text/x-python",
   "name": "python",
   "nbconvert_exporter": "python",
   "pygments_lexer": "ipython3",
   "version": "3.10.14"
  }
 },
 "nbformat": 4,
 "nbformat_minor": 5
}
