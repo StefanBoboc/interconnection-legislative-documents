{
 "cells": [
  {
   "cell_type": "code",
   "execution_count": 1,
   "id": "92a233b4-c1ef-4844-bf50-556d1fdfdade",
   "metadata": {},
   "outputs": [],
   "source": [
    "import pandas as pd\n",
    "import pickle\n",
    "import numpy as np\n",
    "from gensim.models import Word2Vec\n",
    "import annoy"
   ]
  },
  {
   "cell_type": "code",
   "execution_count": 2,
   "id": "7115ad7c-6a12-4c51-b9ee-d133377f179c",
   "metadata": {},
   "outputs": [],
   "source": [
    "# Load train data in chunks\n",
    "def load_large_dataframe(filename):\n",
    "    chunks = []\n",
    "    with open(filename, 'rb') as f:\n",
    "        while True:\n",
    "            try:\n",
    "                chunk = pickle.load(f)\n",
    "                chunks.append(chunk)\n",
    "            except EOFError:\n",
    "                break\n",
    "    return pd.concat(chunks, ignore_index=True)"
   ]
  },
  {
   "cell_type": "code",
   "execution_count": 3,
   "id": "b0d40022-3ad5-4bd8-ad11-3961653bf82a",
   "metadata": {
    "scrolled": true
   },
   "outputs": [
    {
     "name": "stdout",
     "output_type": "stream",
     "text": [
      "1\n",
      "2\n",
      "3\n",
      "4\n",
      "5\n",
      "6\n",
      "7\n",
      "8\n",
      "9\n",
      "10\n",
      "11\n",
      "Shape: (1074964, 5)\n"
     ]
    }
   ],
   "source": [
    "loaded_df = load_large_dataframe('train_data-less_then_4_men_filtered.pkl')\n",
    "print('Shape:', loaded_df.shape)"
   ]
  },
  {
   "cell_type": "code",
   "execution_count": 4,
   "id": "52b333f8-d9a6-4faa-9a07-b18b208de11d",
   "metadata": {},
   "outputs": [],
   "source": [
    "loaded_df = loaded_df.drop(columns=['men_text', 'men_id', 'phrase'])"
   ]
  },
  {
   "cell_type": "code",
   "execution_count": 5,
   "id": "231080af-ed84-4f07-9937-b6aa00f00176",
   "metadata": {},
   "outputs": [
    {
     "data": {
      "text/html": [
       "<div>\n",
       "<style scoped>\n",
       "    .dataframe tbody tr th:only-of-type {\n",
       "        vertical-align: middle;\n",
       "    }\n",
       "\n",
       "    .dataframe tbody tr th {\n",
       "        vertical-align: top;\n",
       "    }\n",
       "\n",
       "    .dataframe thead th {\n",
       "        text-align: right;\n",
       "    }\n",
       "</style>\n",
       "<table border=\"1\" class=\"dataframe\">\n",
       "  <thead>\n",
       "    <tr style=\"text-align: right;\">\n",
       "      <th></th>\n",
       "      <th>men_href_title</th>\n",
       "      <th>men_href_title_id</th>\n",
       "    </tr>\n",
       "  </thead>\n",
       "  <tbody>\n",
       "    <tr>\n",
       "      <th>0</th>\n",
       "      <td>[lege, număr, 187, 24, octombrie, 2011]</td>\n",
       "      <td>8678</td>\n",
       "    </tr>\n",
       "    <tr>\n",
       "      <th>1</th>\n",
       "      <td>[lege, număr, 24, 27, martie, 2000, republicat]</td>\n",
       "      <td>9116</td>\n",
       "    </tr>\n",
       "    <tr>\n",
       "      <th>2</th>\n",
       "      <td>[lege, număr, 47, 18, 1992, republicat]</td>\n",
       "      <td>9947</td>\n",
       "    </tr>\n",
       "    <tr>\n",
       "      <th>3</th>\n",
       "      <td>[ordonanță, număr, 17, 15, iulie, 2015]</td>\n",
       "      <td>17618</td>\n",
       "    </tr>\n",
       "    <tr>\n",
       "      <th>4</th>\n",
       "      <td>[decizie, număr, 802, 3, iulie, 2008]</td>\n",
       "      <td>4828</td>\n",
       "    </tr>\n",
       "  </tbody>\n",
       "</table>\n",
       "</div>"
      ],
      "text/plain": [
       "                                    men_href_title  men_href_title_id\n",
       "0          [lege, număr, 187, 24, octombrie, 2011]               8678\n",
       "1  [lege, număr, 24, 27, martie, 2000, republicat]               9116\n",
       "2          [lege, număr, 47, 18, 1992, republicat]               9947\n",
       "3          [ordonanță, număr, 17, 15, iulie, 2015]              17618\n",
       "4            [decizie, număr, 802, 3, iulie, 2008]               4828"
      ]
     },
     "execution_count": 5,
     "metadata": {},
     "output_type": "execute_result"
    }
   ],
   "source": [
    "loaded_df.head()"
   ]
  },
  {
   "cell_type": "code",
   "execution_count": 6,
   "id": "c9bb3933-3b16-4c74-8bf3-bbfaa3e1ee72",
   "metadata": {},
   "outputs": [
    {
     "data": {
      "text/plain": [
       "19624"
      ]
     },
     "execution_count": 6,
     "metadata": {},
     "output_type": "execute_result"
    }
   ],
   "source": [
    "loaded_df['men_href_title_id'].nunique()"
   ]
  },
  {
   "cell_type": "code",
   "execution_count": 9,
   "id": "d84b88c8-0dc1-49a8-9e3e-3a6d3e6e9cfe",
   "metadata": {},
   "outputs": [],
   "source": [
    "# Load word embeddings\n",
    "word2vec_model = Word2Vec.load(r'C:\\Users\\Stefan\\Desktop\\licenta_mea_de_10\\03_word_embadings\\word2vec_embeddings-filtered_train_unique_phrases-ep20\\word2vec_embeddings-filtered_train_unique_phrases-ep20.model')"
   ]
  },
  {
   "cell_type": "code",
   "execution_count": 10,
   "id": "d17199aa-5986-4037-88a8-a2c032cdee2d",
   "metadata": {},
   "outputs": [],
   "source": [
    "# Calculate the mean embedding of a train title\n",
    "def get_embeddings(word_list, model):\n",
    "    embeddings = []\n",
    "    for word in word_list:\n",
    "        if word in model.wv:\n",
    "            embeddings.append(model.wv[word])\n",
    "        else:\n",
    "            embeddings.append(np.zeros(model.vector_size))\n",
    "    return np.mean(embeddings, axis=0)"
   ]
  },
  {
   "cell_type": "code",
   "execution_count": 11,
   "id": "2bbe10a8-1cb9-416f-8dc0-bd3d20f26c67",
   "metadata": {},
   "outputs": [],
   "source": [
    "loaded_df['emb_men_href_title'] = loaded_df['men_href_title'].apply(lambda x: get_embeddings(x, word2vec_model))"
   ]
  },
  {
   "cell_type": "code",
   "execution_count": 13,
   "id": "d3f7ca9b-ab5a-4114-9156-eabe0a2119e2",
   "metadata": {
    "scrolled": true
   },
   "outputs": [],
   "source": [
    "del word2vec_model"
   ]
  },
  {
   "cell_type": "code",
   "execution_count": 12,
   "id": "9711f62b-59b9-4371-b96f-e93d94d7ba5c",
   "metadata": {},
   "outputs": [
    {
     "data": {
      "text/html": [
       "<div>\n",
       "<style scoped>\n",
       "    .dataframe tbody tr th:only-of-type {\n",
       "        vertical-align: middle;\n",
       "    }\n",
       "\n",
       "    .dataframe tbody tr th {\n",
       "        vertical-align: top;\n",
       "    }\n",
       "\n",
       "    .dataframe thead th {\n",
       "        text-align: right;\n",
       "    }\n",
       "</style>\n",
       "<table border=\"1\" class=\"dataframe\">\n",
       "  <thead>\n",
       "    <tr style=\"text-align: right;\">\n",
       "      <th></th>\n",
       "      <th>men_href_title</th>\n",
       "      <th>men_href_title_id</th>\n",
       "      <th>emb_men_href_title</th>\n",
       "    </tr>\n",
       "  </thead>\n",
       "  <tbody>\n",
       "    <tr>\n",
       "      <th>0</th>\n",
       "      <td>[lege, număr, 187, 24, octombrie, 2011]</td>\n",
       "      <td>8678</td>\n",
       "      <td>[0.9943053, -1.2912544, 2.1456861, -2.0568573,...</td>\n",
       "    </tr>\n",
       "    <tr>\n",
       "      <th>1</th>\n",
       "      <td>[lege, număr, 24, 27, martie, 2000, republicat]</td>\n",
       "      <td>9116</td>\n",
       "      <td>[-1.1107086, -1.5717981, 1.4432237, -1.4780799...</td>\n",
       "    </tr>\n",
       "    <tr>\n",
       "      <th>2</th>\n",
       "      <td>[lege, număr, 47, 18, 1992, republicat]</td>\n",
       "      <td>9947</td>\n",
       "      <td>[-1.9419836, -3.0039403, 1.3080685, -0.1964377...</td>\n",
       "    </tr>\n",
       "    <tr>\n",
       "      <th>3</th>\n",
       "      <td>[ordonanță, număr, 17, 15, iulie, 2015]</td>\n",
       "      <td>17618</td>\n",
       "      <td>[0.5815943, -0.6987576, 2.5268528, -1.1766078,...</td>\n",
       "    </tr>\n",
       "    <tr>\n",
       "      <th>4</th>\n",
       "      <td>[decizie, număr, 802, 3, iulie, 2008]</td>\n",
       "      <td>4828</td>\n",
       "      <td>[0.76110214, 1.1239939, 1.0337374, -2.2991674,...</td>\n",
       "    </tr>\n",
       "  </tbody>\n",
       "</table>\n",
       "</div>"
      ],
      "text/plain": [
       "                                    men_href_title  men_href_title_id  \\\n",
       "0          [lege, număr, 187, 24, octombrie, 2011]               8678   \n",
       "1  [lege, număr, 24, 27, martie, 2000, republicat]               9116   \n",
       "2          [lege, număr, 47, 18, 1992, republicat]               9947   \n",
       "3          [ordonanță, număr, 17, 15, iulie, 2015]              17618   \n",
       "4            [decizie, număr, 802, 3, iulie, 2008]               4828   \n",
       "\n",
       "                                  emb_men_href_title  \n",
       "0  [0.9943053, -1.2912544, 2.1456861, -2.0568573,...  \n",
       "1  [-1.1107086, -1.5717981, 1.4432237, -1.4780799...  \n",
       "2  [-1.9419836, -3.0039403, 1.3080685, -0.1964377...  \n",
       "3  [0.5815943, -0.6987576, 2.5268528, -1.1766078,...  \n",
       "4  [0.76110214, 1.1239939, 1.0337374, -2.2991674,...  "
      ]
     },
     "execution_count": 12,
     "metadata": {},
     "output_type": "execute_result"
    }
   ],
   "source": [
    "loaded_df.head()"
   ]
  },
  {
   "cell_type": "code",
   "execution_count": 14,
   "id": "f936af12-dc41-400e-a7b6-b1057148c210",
   "metadata": {},
   "outputs": [
    {
     "data": {
      "text/plain": [
       "False"
      ]
     },
     "execution_count": 14,
     "metadata": {},
     "output_type": "execute_result"
    }
   ],
   "source": [
    "loaded_df['emb_men_href_title'].isnull().any()"
   ]
  },
  {
   "cell_type": "code",
   "execution_count": 15,
   "id": "75a4e5a5-2fe5-4308-b788-935c2d7765e9",
   "metadata": {},
   "outputs": [
    {
     "data": {
      "text/plain": [
       "(1074964, 3)"
      ]
     },
     "execution_count": 15,
     "metadata": {},
     "output_type": "execute_result"
    }
   ],
   "source": [
    "loaded_df.shape"
   ]
  },
  {
   "cell_type": "code",
   "execution_count": 16,
   "id": "2466f393-03f4-4a36-8ee9-c7d4faa817e2",
   "metadata": {},
   "outputs": [],
   "source": [
    "# Get unique title_ids to build them as indexes in Annoy object\n",
    "annoy_df = loaded_df.drop_duplicates(subset='men_href_title_id')[['men_href_title_id', 'men_href_title', 'emb_men_href_title']]"
   ]
  },
  {
   "cell_type": "code",
   "execution_count": 17,
   "id": "c1c5a3e1-890e-42c6-9ee5-36bf23f5bc37",
   "metadata": {},
   "outputs": [
    {
     "data": {
      "text/html": [
       "<div>\n",
       "<style scoped>\n",
       "    .dataframe tbody tr th:only-of-type {\n",
       "        vertical-align: middle;\n",
       "    }\n",
       "\n",
       "    .dataframe tbody tr th {\n",
       "        vertical-align: top;\n",
       "    }\n",
       "\n",
       "    .dataframe thead th {\n",
       "        text-align: right;\n",
       "    }\n",
       "</style>\n",
       "<table border=\"1\" class=\"dataframe\">\n",
       "  <thead>\n",
       "    <tr style=\"text-align: right;\">\n",
       "      <th></th>\n",
       "      <th>men_href_title_id</th>\n",
       "      <th>men_href_title</th>\n",
       "      <th>emb_men_href_title</th>\n",
       "    </tr>\n",
       "  </thead>\n",
       "  <tbody>\n",
       "    <tr>\n",
       "      <th>0</th>\n",
       "      <td>8678</td>\n",
       "      <td>[lege, număr, 187, 24, octombrie, 2011]</td>\n",
       "      <td>[0.9943053, -1.2912544, 2.1456861, -2.0568573,...</td>\n",
       "    </tr>\n",
       "    <tr>\n",
       "      <th>1</th>\n",
       "      <td>9116</td>\n",
       "      <td>[lege, număr, 24, 27, martie, 2000, republicat]</td>\n",
       "      <td>[-1.1107086, -1.5717981, 1.4432237, -1.4780799...</td>\n",
       "    </tr>\n",
       "    <tr>\n",
       "      <th>2</th>\n",
       "      <td>9947</td>\n",
       "      <td>[lege, număr, 47, 18, 1992, republicat]</td>\n",
       "      <td>[-1.9419836, -3.0039403, 1.3080685, -0.1964377...</td>\n",
       "    </tr>\n",
       "    <tr>\n",
       "      <th>3</th>\n",
       "      <td>17618</td>\n",
       "      <td>[ordonanță, număr, 17, 15, iulie, 2015]</td>\n",
       "      <td>[0.5815943, -0.6987576, 2.5268528, -1.1766078,...</td>\n",
       "    </tr>\n",
       "    <tr>\n",
       "      <th>4</th>\n",
       "      <td>4828</td>\n",
       "      <td>[decizie, număr, 802, 3, iulie, 2008]</td>\n",
       "      <td>[0.76110214, 1.1239939, 1.0337374, -2.2991674,...</td>\n",
       "    </tr>\n",
       "  </tbody>\n",
       "</table>\n",
       "</div>"
      ],
      "text/plain": [
       "   men_href_title_id                                   men_href_title  \\\n",
       "0               8678          [lege, număr, 187, 24, octombrie, 2011]   \n",
       "1               9116  [lege, număr, 24, 27, martie, 2000, republicat]   \n",
       "2               9947          [lege, număr, 47, 18, 1992, republicat]   \n",
       "3              17618          [ordonanță, număr, 17, 15, iulie, 2015]   \n",
       "4               4828            [decizie, număr, 802, 3, iulie, 2008]   \n",
       "\n",
       "                                  emb_men_href_title  \n",
       "0  [0.9943053, -1.2912544, 2.1456861, -2.0568573,...  \n",
       "1  [-1.1107086, -1.5717981, 1.4432237, -1.4780799...  \n",
       "2  [-1.9419836, -3.0039403, 1.3080685, -0.1964377...  \n",
       "3  [0.5815943, -0.6987576, 2.5268528, -1.1766078,...  \n",
       "4  [0.76110214, 1.1239939, 1.0337374, -2.2991674,...  "
      ]
     },
     "execution_count": 17,
     "metadata": {},
     "output_type": "execute_result"
    }
   ],
   "source": [
    "annoy_df.head()"
   ]
  },
  {
   "cell_type": "code",
   "execution_count": 18,
   "id": "7c633c43-bc4e-4401-9d6a-055069c9a8b1",
   "metadata": {},
   "outputs": [
    {
     "data": {
      "text/plain": [
       "(19624, 3)"
      ]
     },
     "execution_count": 18,
     "metadata": {},
     "output_type": "execute_result"
    }
   ],
   "source": [
    "annoy_df.shape"
   ]
  },
  {
   "cell_type": "code",
   "execution_count": null,
   "id": "5cd01f93-e06f-442b-8394-cd81acf74e21",
   "metadata": {},
   "outputs": [],
   "source": [
    "# Build Annoy with 10000 trees\n",
    "vector_length = 100\n",
    "metric = 'angular'\n",
    "annoy_index = annoy.AnnoyIndex(vector_length, metric=metric)\n",
    "\n",
    "# Mapping between the item and its identifier in the index\n",
    "for index, row in annoy_df.iterrows():\n",
    "    men_href_title_id = row['men_href_title_id']\n",
    "    emb_men_href_title = row['emb_men_href_title']\n",
    "    annoy_index.add_item(men_href_title_id, emb_men_href_title)   \n",
    "\n",
    "num_trees = 10000\n",
    "annoy_index.build(n_trees=num_trees)"
   ]
  },
  {
   "cell_type": "code",
   "execution_count": 23,
   "id": "47773d4c-8b19-4186-b3d5-df05a59187d8",
   "metadata": {},
   "outputs": [
    {
     "data": {
      "text/plain": [
       "True"
      ]
     },
     "execution_count": 23,
     "metadata": {},
     "output_type": "execute_result"
    }
   ],
   "source": [
    "annoy_index.save('annoy_index-10ktrees.ann')"
   ]
  }
 ],
 "metadata": {
  "kernelspec": {
   "display_name": "Python 3 (ipykernel)",
   "language": "python",
   "name": "python3"
  },
  "language_info": {
   "codemirror_mode": {
    "name": "ipython",
    "version": 3
   },
   "file_extension": ".py",
   "mimetype": "text/x-python",
   "name": "python",
   "nbconvert_exporter": "python",
   "pygments_lexer": "ipython3",
   "version": "3.10.14"
  }
 },
 "nbformat": 4,
 "nbformat_minor": 5
}
